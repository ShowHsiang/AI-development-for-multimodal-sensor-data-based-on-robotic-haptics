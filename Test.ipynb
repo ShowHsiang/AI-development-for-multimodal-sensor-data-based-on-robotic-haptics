{
 "cells": [
  {
   "cell_type": "code",
   "execution_count": 8,
   "metadata": {},
   "outputs": [
    {
     "data": {
      "text/plain": [
       "Unnamed: 0    0\n",
       "Unnamed: 2    0\n",
       "dtype: int64"
      ]
     },
     "execution_count": 8,
     "metadata": {},
     "output_type": "execute_result"
    }
   ],
   "source": [
    "import pandas as pd\n",
    "description_df = pd.read_excel('dataset_description1.xlsx', usecols=['Unnamed: 0', 'Unnamed: 2'])\n",
    "description_df.dropna(inplace=True)\n",
    "description_df.isnull().sum()"
   ]
  },
  {
   "cell_type": "code",
   "execution_count": 1,
   "metadata": {},
   "outputs": [
    {
     "name": "stdout",
     "output_type": "stream",
     "text": [
      "True\n",
      "12.1\n",
      "True\n",
      "2.3.1\n"
     ]
    }
   ],
   "source": [
    "import os\n",
    "os.environ[\"CUDA_VISIBLE_DEVICES\"] = \"0,1\"\n",
    "import torch\n",
    "print(torch.cuda.is_available())\n",
    "print(torch.version.cuda)\n",
    "print(torch.backends.cudnn.enabled)\n",
    "print(torch.__version__)"
   ]
  },
  {
   "cell_type": "code",
   "execution_count": 2,
   "metadata": {},
   "outputs": [
    {
     "name": "stderr",
     "output_type": "stream",
     "text": [
      "2024-07-03 17:55:39.186696: I tensorflow/core/platform/cpu_feature_guard.cc:210] This TensorFlow binary is optimized to use available CPU instructions in performance-critical operations.\n",
      "To enable the following instructions: AVX2 FMA, in other operations, rebuild TensorFlow with the appropriate compiler flags.\n",
      "2024-07-03 17:55:39.911543: W tensorflow/compiler/tf2tensorrt/utils/py_utils.cc:38] TF-TRT Warning: Could not find TensorRT\n"
     ]
    },
    {
     "name": "stdout",
     "output_type": "stream",
     "text": [
      "Num GPUs Available:  2\n"
     ]
    },
    {
     "name": "stderr",
     "output_type": "stream",
     "text": [
      "2024-07-03 17:55:40.704897: I external/local_xla/xla/stream_executor/cuda/cuda_executor.cc:984] could not open file to read NUMA node: /sys/bus/pci/devices/0000:01:00.0/numa_node\n",
      "Your kernel may have been built without NUMA support.\n",
      "2024-07-03 17:55:40.704993: I external/local_xla/xla/stream_executor/cuda/cuda_executor.cc:984] could not open file to read NUMA node: /sys/bus/pci/devices/0000:2f:00.0/numa_node\n",
      "Your kernel may have been built without NUMA support.\n",
      "2024-07-03 17:55:40.707252: I external/local_xla/xla/stream_executor/cuda/cuda_executor.cc:984] could not open file to read NUMA node: /sys/bus/pci/devices/0000:01:00.0/numa_node\n",
      "Your kernel may have been built without NUMA support.\n",
      "2024-07-03 17:55:40.707299: I external/local_xla/xla/stream_executor/cuda/cuda_executor.cc:984] could not open file to read NUMA node: /sys/bus/pci/devices/0000:2f:00.0/numa_node\n",
      "Your kernel may have been built without NUMA support.\n",
      "2024-07-03 17:55:40.707320: I external/local_xla/xla/stream_executor/cuda/cuda_executor.cc:984] could not open file to read NUMA node: /sys/bus/pci/devices/0000:01:00.0/numa_node\n",
      "Your kernel may have been built without NUMA support.\n",
      "2024-07-03 17:55:40.707340: I external/local_xla/xla/stream_executor/cuda/cuda_executor.cc:984] could not open file to read NUMA node: /sys/bus/pci/devices/0000:2f:00.0/numa_node\n",
      "Your kernel may have been built without NUMA support.\n"
     ]
    }
   ],
   "source": [
    "import tensorflow as tf\n",
    "\n",
    "# 检查是否有可用的GPU\n",
    "print(\"Num GPUs Available: \", len(tf.config.experimental.list_physical_devices('GPU')))\n",
    "\n",
    "# 设置GPU内存增长\n",
    "gpus = tf.config.experimental.list_physical_devices('GPU')\n",
    "for gpu in gpus:\n",
    "    tf.config.experimental.set_memory_growth(gpu, True)\n"
   ]
  },
  {
   "cell_type": "code",
   "execution_count": 12,
   "metadata": {},
   "outputs": [
    {
     "name": "stdout",
     "output_type": "stream",
     "text": [
      "BLEU1: 0.6328975308243934\n",
      "BLEU2: 0.6700793522132942\n",
      "BLEU3: 0.056939586098698654\n",
      "BLEU4: 0.5652998382875902\n",
      "BLEU5: 0.6339356479228936\n"
     ]
    }
   ],
   "source": [
    "import nltk\n",
    "from nltk.translate.bleu_score import sentence_bleu, SmoothingFunction\n",
    "\n",
    "# Reference and hypothesis descriptions\n",
    "reference = \"Softness (9/10): Suede is known for its exceptional softness, which is a result of the buffing process applied to the underside of the animal hide. This creates a delicate, velvety texture that feels gentle and luxurious against the skin. The softness of suede makes it a preferred material for high-end garments and accessories. Roughness (4/10): Despite its overall softness, suede has a distinctive roughness due to its short, fibrous nap. This roughness is not abrasive but provides a tactile interest that sets it apart from smoother leathers. The texture is pleasingly tactile without being harsh or irritating. Smoothness (5/10): The surface of suede is characterized by its napped finish, which means it lacks the sleek smoothness of full-grain leather. Instead, it has a textured, somewhat fuzzy feel. This nap can create a sense of irregularity when stroked, particularly against the grain. Elasticity (3/10): Suede is not highly elastic. It has a limited amount of give and does not stretch significantly. This property allows it to maintain its shape and structure over time, which is advantageous for maintaining the form of garments and accessories. Thickness (6/10): Suede varies in thickness depending on its source and treatment. Typically, it is thinner than traditional full-grain leather but offers more substance than many fabrics. This intermediate thickness provides a good balance of durability and flexibility. Temperature (7/10): Suede tends to feel warm to the touch, making it suitable for cooler climates and seasons. The napped surface has insulating properties, which can retain warmth and offer a comforting feel in colder environments. However, in hot climates, it might feel too warm.\"\n",
    "hypothesis1 = \"Softness (9/10): Suede is known for its exceptional softness due to the short fibers on its surface. It feels plush and luxurious to the touch, making it a popular choice for clothing items like jackets, shoes, and bags. The softness can vary depending on the quality of the leather and the finishing process. Roughness (3/10): Contrary to some textiles, suede is not typically rough. However, if the nap wears off or becomes dirty, it may feel slightly rougher than when new. Regular care and maintenance help maintain the softness of suede. Smoothness (8/10): While not as smooth as silk or satin, suede has a unique texture that many people find appealing. Its velvet-like surface provides a pleasant sensation without being overly slick or slippery. Elasticity (6/10): Suede has moderate elasticity compared to other materials. It can stretch slightly under pressure but will return to its original shape once released. This property makes it suitable for garments that require flexibility, such as gloves or boots. Thickness (7/10): The thickness of suede varies based on the source animal and tanning processes used. Generally, it tends to be thicker than other leathers but thinner than heavyweight fabrics like denim or corduroy. Temperature (7/10): Suede maintains a neutral temperature close to body temperature, which means it doesn't feel excessively warm or cold against the skin. However, this perception might change with environmental factors like air conditioning or direct sunlight.\"\n",
    "hypothesis2 = \"Softness (9/10): Suede is renowned for its exceptional softness due to the delicate nature of the split leather used to make it. The fibers on the surface create a plush feel that's gentle to the touch. This softness makes suede highly desirable for garments like jackets, gloves, and shoes where comfort is key. Roughness (6/10): While not as rough as materials like denim or corduroy, suede does have some level of roughness due to its napped finish. The tiny fibers sticking up from the surface provide a slight textured feeling when touched. However, this roughness is subtle compared to other fabrics. Smoothness (7/10): Despite having some texture, suede also offers a degree of smoothness. When stroked lightly, the nap allows your hand to glide over the material with minimal resistance. It's smoother than wool but less so than silk or satin. Elasticity (5/10): Suede has moderate elasticity; it can stretch slightly without losing shape, thanks to its natural leather base. However, it doesn't recover as well as synthetic fabrics after being stretched significantly. Also, excessive stretching may cause permanent damage or 'cracking' of the suede. Thickness (8/10): Suede tends to be quite thick, providing excellent insulation against both heat loss and external cold. Its thickness contributes to its durability and warmth, making it ideal for outerwear. Thicker suedes often feel more luxurious under touch. Temperature (8/10): Due to its thickness and low air permeability, suede feels warm to the touch even at room temperature. In colder environments, it provides significant thermal insulation, which is why many winter coats use suede linings. Conversely, in hotter climates, suede might trap too much heat, leading to discomfort.\"\n",
    "hypothesis3 = \"Softness: A softer fabric can be more gentle on the skin, making it easier to handle and manipulate. Roughness: A coarser fabric may cause friction and irritation to the wearer, which can lead to discomfort and even injury. Elasticity: Fabrics with stretch provide flexibility and allow for ease of movement. Thickness: Thicker materials tend to be less prone to runs or tears. Temperature: Materials that are too thin or too thick can make them uncomfortable to wear next to the skin.\"\n",
    "hypothesis4 = \"Softness (9/10): Suede is renowned for its exceptional softness. The napped surface feels incredibly gentle against the skin, almost velvety. This softness comes from the short, dense pile created during the splitting and buffing process. Roughness (3/10): Despite its softness, suede can exhibit a subtle roughness depending on the type of leather used and the nap length.▁▁The individual fibers create a slightly textured surface that isn't harsh but noticeable. Smoothness (6/10): While not as smooth as silk or satin, suede possesses a pleasing level of smoothness thanks to the even distribution of the nap. It glides gently over the skin without snagging or pulling. Elasticity (5/10): Suede has moderate elasticity. It can stretch slightly under pressure but will return to its original shape relatively quickly. However, it lacks the high resilience found in some synthetic fabrics. Thickness (6/10): Suede varies in thickness depending on the source material and desired application. Generally, it falls between lightweight and medium-weight categories. Its plush nature contributes to a perceived thicker feel compared to thinner leathers. Temperature (7/10): Suede tends to breathe well, allowing air circulation and regulating body temperature. It feels cool to the touch in warm weather and retains warmth in colder conditions.\"\n",
    "hypothesis5 = \"Softness (6/10): Suede has a unique texture that is often described as velvety or plush. While it's not extremely soft like silk or cashmere, its gentle nap (the raised surface) provides a pleasant sensation against the skin. The softness can vary depending on factors such as the type of animal hide used, the quality of processing, and how well-maintained the suede is. Roughness (4/10): The suede's nap gives rise to some inherent roughness due to the natural fibers' irregularities. However, this aspect is somewhat mitigated by the fact that suede tends to wear off quickly when rubbed vigorously, which reduces the perceived coarseness over time. Smoothness (7/10): Despite being made from natural materials with varying fiber lengths and orientations, suede exhibits relatively good smoothness overall. This attribute contributes significantly to its luxurious feel and visual appeal. Elasticity (3/10): Due to the stiffening effect caused by tanning agents during production, suede generally lacks significant elasticity compared to other types of leather or synthetic materials. It may stretch slightly under tension but will eventually snap back into place without retaining much memory. Thickness (8/10): In general, high-quality suede tends to have moderate-to-thick density, giving it substantial weight and substance while still maintaining flexibility for practical applications like upholstery or clothing. Temperature (-1/10): When touched, suede typically feels neither particularly warm nor cold; instead, it usually remains at ambient room temperature. Its thermal conductivity might contribute minimally to heat transfer between your body and surroundings.\"\n",
    "\n",
    "# Tokenize the descriptions\n",
    "# reference = reference.split()\n",
    "# hypothesis1 = hypothesis1.split()\n",
    "# hypothesis2 = hypothesis2.split()\n",
    "# hypothesis3 = hypothesis3.split()\n",
    "\n",
    "smoothie = SmoothingFunction().method1\n",
    "\n",
    "# Calculate BLEU scores with smoothing\n",
    "bleu1 = sentence_bleu([reference], hypothesis1, smoothing_function=smoothie)\n",
    "bleu2 = sentence_bleu([reference], hypothesis2, smoothing_function=smoothie)\n",
    "bleu3 = sentence_bleu([reference], hypothesis3, smoothing_function=smoothie)\n",
    "bleu4 = sentence_bleu([reference], hypothesis4, smoothing_function=smoothie)\n",
    "bleu5 = sentence_bleu([reference], hypothesis5, smoothing_function=smoothie)\n",
    "\n",
    "print(f\"BLEU1: {bleu1}\\nBLEU2: {bleu2}\\nBLEU3: {bleu3}\\nBLEU4: {bleu4}\\nBLEU5: {bleu5}\")\n"
   ]
  },
  {
   "cell_type": "code",
   "execution_count": 15,
   "metadata": {},
   "outputs": [
    {
     "name": "stdout",
     "output_type": "stream",
     "text": [
      "ROUGE1: {'rouge1': Score(precision=0.011532125205930808, recall=0.05090909090909091, fmeasure=0.01880456682337139), 'rouge2': Score(precision=0.0, recall=0.0, fmeasure=0.0), 'rougeL': Score(precision=0.011532125205930808, recall=0.05090909090909091, fmeasure=0.01880456682337139)}\n",
      "ROUGE2: {'rouge1': Score(precision=0.009915014164305949, recall=0.05090909090909091, fmeasure=0.01659751037344398), 'rouge2': Score(precision=0.0, recall=0.0, fmeasure=0.0), 'rougeL': Score(precision=0.009206798866855524, recall=0.04727272727272727, fmeasure=0.015411973918197985)}\n",
      "ROUGE3: {'rouge1': Score(precision=0.02544529262086514, recall=0.03636363636363636, fmeasure=0.02994011976047904), 'rouge2': Score(precision=0.0, recall=0.0, fmeasure=0.0), 'rougeL': Score(precision=0.02544529262086514, recall=0.03636363636363636, fmeasure=0.02994011976047904)}\n",
      "ROUGE4: {'rouge1': Score(precision=0.013748854262144821, recall=0.05454545454545454, fmeasure=0.021961932650073207), 'rouge2': Score(precision=0.0, recall=0.0, fmeasure=0.0), 'rougeL': Score(precision=0.012832263978001834, recall=0.05090909090909091, fmeasure=0.020497803806734993)}\n",
      "ROUGE5: {'rouge1': Score(precision=0.010159651669085631, recall=0.05090909090909091, fmeasure=0.016938898971566845), 'rouge2': Score(precision=0.0, recall=0.0, fmeasure=0.0), 'rougeL': Score(precision=0.008708272859216255, recall=0.04363636363636364, fmeasure=0.014519056261343012)}\n"
     ]
    }
   ],
   "source": [
    "from rouge_score import rouge_scorer\n",
    "\n",
    "# reference = \"Softness: Suede is known for its luxurious softness, offering a gentle and smooth touch that feels comfortable against the skin. Roughness: While generally smooth, suede has a slight roughness due to its fibrous texture, which provides a subtle, pleasant grip. Smoothness: Suede has a velvety smoothness, though it is not as slick as silk or satin. Its surface is uniformly even but with a delicate nap that enhances its tactile appeal. Elasticity: Suede has minimal elasticity. It is somewhat flexible but doesn't stretch much, maintaining its shape well when manipulated. Thickness: Suede varies in thickness, but it typically feels substantial and dense, offering a sense of durability and quality without being overly heavy. Temperature: Suede tends to feel warm to the touch, providing a cozy and comforting sensation, especially in cooler environments.\"\n",
    "# hypothesis1 = \"Softness: Gentle, velvety texture. Softness varies depending on quality and type of suede. Feels luxurious and pleasing to the skin. Roughness: Slightly rough or grainy texture, especially new or unconditioned suede. Texture softens with wear and conditioning. Smoothness: Despite the roughness, suede can feel surprisingly smooth to the touch. The nap creates a subtle, tactile sensation. Elasticity: Stiff and non-elastic, does not stretch easily. Treated to maintain its unique texture and appearance. Thickness: Thinner than other leathers, typically 0.5-2 mm. Thickness can influence the overall feel and drape of the material. Temperature: Cool to the touch when new, absorbs and retains heat with wear. Becomes more comfortable and supple with wear and conditioning.\"\n",
    "# hypothesis2 = \"Softness: Suede is generally quite soft to the touch, with a gentle, velvety texture. The softness can vary depending on the quality and type of suede, but it's often described as luxurious and pleasing to the skin. Roughness: Suede can have a slightly rough or grainy texture, especially when it's new or hasn't been worn in for a while. This is due to the natural fibers and nap (the soft, fuzzy surface) of the suede. However, as suede is worn and conditioned, the roughness tends to smooth out. Smoothness: Despite its rougher texture, suede can still feel surprisingly smooth to the touch. The nap of the suede can create a subtle, tactile sensation that's pleasing to the skin. Elasticity: Suede is relatively stiff and non-elastic, meaning it doesn't stretch or conform to the shape of the hand or body as easily as other materials. This is because suede is a type of leather that's been treated to create its unique texture and appearance. Thickness: Suede is typically thinner than other types of leather, with a thickness that's often measured in millimeters (mm). High-quality suede can be as thin as 0.5 mm, while lower-quality suede might be thicker, around 1-2 mm. Temperature: Suede can feel slightly cool to the touch, especially when it's new or hasn't been worn in for a while. This is because suede is a natural material that can absorb and retain heat. However, as suede is worn and conditioned, it tends to warm up to the touch, becoming more comfortable and supple.\"\n",
    "# hypothesis3 = \"Softness: Suede is incredibly soft to the touch, with a gentle, velvety texture that's pleasing to the fingers. It's often described as having a 'luxurious' or 'sumptuous' feel. Roughness: Despite its softness, suede has a subtle roughness to it, which comes from the natural fibers of the animal skin. This roughness is very slight, but it gives suede a slightly tactile, organic feel. Smoothness: When suede is in good condition, the nap (the soft, fuzzy surface) lies flat, creating a smooth, even texture. However, if the suede is worn or damaged, the nap can become rough and uneven, affecting the overall smoothness. Elasticity: Suede is not very elastic, meaning it doesn't stretch or give much when pressed or pulled. This is because it's a natural material that's more prone to absorbing and conforming to pressure rather than springing back into shape. Thickness: Suede is generally a relatively thin material, which contributes to its soft, pliable feel. The thickness can vary depending on the type of suede and the tanning process used, but it's often thinner than other types of leather. Temperature: Suede tends to feel cool to the touch, especially when it's new or in a cooler environment. As it warms up to body temperature, it can feel soft and inviting, but it never feels hot or clammy. In very cold temperatures, suede can feel slightly stiff or rigid, but it still retains its softness and texture.\"\n",
    "\n",
    "# Initialize the scorer\n",
    "scorer = rouge_scorer.RougeScorer(['rouge1', 'rouge2', 'rougeL'], use_stemmer=True)\n",
    "\n",
    "# Calculate ROUGE scores\n",
    "rouge1 = scorer.score(reference, \" \".join(hypothesis1))\n",
    "rouge2 = scorer.score(reference, \" \".join(hypothesis2))\n",
    "rouge3 = scorer.score(reference, \" \".join(hypothesis3))\n",
    "rouge4 = scorer.score(reference, \" \".join(hypothesis4))\n",
    "rouge5 = scorer.score(reference, \" \".join(hypothesis5))\n",
    "\n",
    "print(f\"ROUGE1: {rouge1}\\nROUGE2: {rouge2}\\nROUGE3: {rouge3}\\nROUGE4: {rouge4}\\nROUGE5: {rouge5}\")\n"
   ]
  },
  {
   "cell_type": "code",
   "execution_count": 17,
   "metadata": {},
   "outputs": [
    {
     "name": "stdout",
     "output_type": "stream",
     "text": [
      "Cosine Similarity 1: 0.7488438940690314\n",
      "Cosine Similarity 2: 0.7569804581695377\n",
      "Cosine Similarity 3: 0.4341936036653318\n",
      "Cosine Similarity 4: 0.7618347112066278\n",
      "Cosine Similarity 5: 0.719216311671296\n"
     ]
    }
   ],
   "source": [
    "from sklearn.feature_extraction.text import CountVectorizer\n",
    "from sklearn.metrics.pairwise import cosine_similarity\n",
    "vectorizer = CountVectorizer().fit_transform([reference, hypothesis1, hypothesis2, hypothesis3, hypothesis4, hypothesis5])\n",
    "vectors = vectorizer.toarray()\n",
    "\n",
    "# Calculate Cosine Similarity\n",
    "cosine_sim1 = cosine_similarity([vectors[0]], [vectors[1]])[0][0]\n",
    "cosine_sim2 = cosine_similarity([vectors[0]], [vectors[2]])[0][0]\n",
    "cosine_sim3 = cosine_similarity([vectors[0]], [vectors[3]])[0][0]\n",
    "cosine_sim4 = cosine_similarity([vectors[0]], [vectors[4]])[0][0]\n",
    "cosine_sim5 = cosine_similarity([vectors[0]], [vectors[5]])[0][0]\n",
    "print(f\"Cosine Similarity 1: {cosine_sim1}\\nCosine Similarity 2: {cosine_sim2}\\nCosine Similarity 3: {cosine_sim3}\\nCosine Similarity 4: {cosine_sim4}\\nCosine Similarity 5: {cosine_sim5}\")"
   ]
  },
  {
   "cell_type": "code",
   "execution_count": 1,
   "metadata": {},
   "outputs": [
    {
     "name": "stdout",
     "output_type": "stream",
     "text": [
      "cuda\n"
     ]
    },
    {
     "data": {
      "application/vnd.jupyter.widget-view+json": {
       "model_id": "39822a1d065d4634a5187215a367b068",
       "version_major": 2,
       "version_minor": 0
      },
      "text/plain": [
       "Loading checkpoint shards:   0%|          | 0/3 [00:00<?, ?it/s]"
      ]
     },
     "metadata": {},
     "output_type": "display_data"
    }
   ],
   "source": [
    "from transformers import (\n",
    "    AutoTokenizer, AutoModelForCausalLM, AutoConfig, BitsAndBytesConfig, TextStreamer\n",
    ")\n",
    "import os\n",
    "import torch\n",
    "os.environ[\"CUDA_VISIBLE_DEVICES\"] = \"0,1\"\n",
    "device = torch.device(\"cuda\" if torch.cuda.is_available() else \"cpu\")\n",
    "print(device)\n",
    "ckpt_folder = \"ckpts\"\n",
    "base_model = \"Mistral-7B-Instruct-v0.3\"\n",
    "model_path=os.path.join(ckpt_folder, base_model)\n",
    "# bnb_config = BitsAndBytesConfig(load_in_4bit=True)\n",
    "model = AutoModelForCausalLM.from_pretrained(\n",
    "    model_path,\n",
    "    torch_dtype=torch.float16,\n",
    "    # quantization_config=bnb_config,\n",
    "    # low_cpu_mem_usage=True\n",
    "        )\n",
    "model = model.to(device)\n",
    "model.config.attn_implementation = \"flash_attention_2\"\n",
    "for param in model.parameters():\n",
    "    if param.device.type != device.type:\n",
    "        raise ValueError(f\"Model parameter not on {device.type}: {param.device}\")"
   ]
  },
  {
   "cell_type": "code",
   "execution_count": null,
   "metadata": {},
   "outputs": [],
   "source": []
  }
 ],
 "metadata": {
  "kernelspec": {
   "display_name": "myenv",
   "language": "python",
   "name": "python3"
  },
  "language_info": {
   "codemirror_mode": {
    "name": "ipython",
    "version": 3
   },
   "file_extension": ".py",
   "mimetype": "text/x-python",
   "name": "python",
   "nbconvert_exporter": "python",
   "pygments_lexer": "ipython3",
   "version": "3.9.19"
  }
 },
 "nbformat": 4,
 "nbformat_minor": 2
}
