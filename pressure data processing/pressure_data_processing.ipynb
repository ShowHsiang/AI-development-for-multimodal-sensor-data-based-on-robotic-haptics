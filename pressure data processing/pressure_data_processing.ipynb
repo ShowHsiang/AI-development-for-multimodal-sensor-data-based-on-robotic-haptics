{
 "cells": [
  {
   "cell_type": "markdown",
   "metadata": {},
   "source": [
    "# Pressure data extraction"
   ]
  },
  {
   "cell_type": "code",
   "execution_count": 19,
   "metadata": {},
   "outputs": [],
   "source": [
    "#import libraries\n",
    "import re\n",
    "import numpy as np\n",
    "import pandas as pd\n",
    "import matplotlib.pyplot as plt\n",
    "from matplotlib.animation import FuncAnimation\n",
    "import os"
   ]
  },
  {
   "cell_type": "code",
   "execution_count": 20,
   "metadata": {},
   "outputs": [],
   "source": [
    "time_stamps = []\n",
    "node_list = []\n",
    "pressure_list = []\n"
   ]
  },
  {
   "cell_type": "code",
   "execution_count": 21,
   "metadata": {},
   "outputs": [],
   "source": [
    "def extract_data(path):\n",
    "    global time_stamps\n",
    "    global node_list\n",
    "    global pressure_list\n",
    "    with open(path, 'r') as file:\n",
    "        unfiltered_data = file.read()\n",
    "\n",
    "    unfiltered_data = unfiltered_data.split('[')\n",
    "    filtered_data = []\n",
    "\n",
    "    for value in unfiltered_data:\n",
    "        filtered_data.append(value.split(']'))\n",
    "\n",
    "    filtered_data = filtered_data[1:]\n",
    "    final_data = []\n",
    "    \n",
    "    for i in range(1, len(filtered_data), 4):\n",
    "        for value in filtered_data[i]: \n",
    "            if value.strip():\n",
    "                node_values = re.findall(r'\\d+', value)\n",
    "                node = [int(x) for x in node_values]\n",
    "                node_list.append(node)\n",
    "\n",
    "        for value in filtered_data[i+1]:\n",
    "            if value.strip():\n",
    "                pressure_values = re.findall(r'\\d+', value)\n",
    "                pressure = [int(x) for x in pressure_values]\n",
    "                pressure_list.append(pressure)\n",
    "\n",
    "        for value in filtered_data[i+2]:\n",
    "            value = value.strip()\n",
    "            \n",
    "            if (i+2 == len(filtered_data)-1):\n",
    "                value = value.split('\\n')[0]\n",
    "            if value:\n",
    "                time = float(value)\n",
    "                time_stamps.append(time)\n",
    "\n",
    "        extract = list(zip(node, pressure))\n",
    "        final_data.append([extract, time])\n",
    "\n",
    "    #print(time_stamps)\n",
    "    return final_data\n"
   ]
  },
  {
   "cell_type": "code",
   "execution_count": 22,
   "metadata": {},
   "outputs": [],
   "source": [
    "path = \"240523 ctl_5-40\\S5_5N_2500PPS_18\"\n",
    "dat = extract_data(path)"
   ]
  },
  {
   "cell_type": "code",
   "execution_count": 23,
   "metadata": {},
   "outputs": [
    {
     "name": "stdout",
     "output_type": "stream",
     "text": [
      "[0.04302668571472168, 0.043005943298339844, 0.04310941696166992, 0.04292583465576172, 0.042922019958496094, 0.04296088218688965, 0.042964935302734375, 0.04303908348083496, 0.043012380599975586, 0.04301142692565918, 0.04299044609069824, 0.04301595687866211, 0.04300689697265625, 0.043023109436035156, 0.04295015335083008, 0.043022871017456055, 0.042995452880859375, 0.042990922927856445, 0.04300832748413086, 0.04306221008300781, 0.042952537536621094, 0.04303455352783203, 0.043025970458984375, 0.04300880432128906, 0.0430140495300293, 0.04297637939453125, 0.04302692413330078, 0.04300355911254883, 0.04296875, 0.04301261901855469, 0.04299354553222656, 0.042987823486328125, 0.04306173324584961, 0.042990684509277344, 0.042969465255737305, 0.04301285743713379, 0.043047428131103516, 0.0429840087890625, 0.04283928871154785, 0.043227195739746094, 0.043090105056762695, 0.042882442474365234, 0.04268145561218262, 0.043318748474121094, 0.043054819107055664, 0.042948007583618164, 0.042812347412109375, 0.0431821346282959, 0.04303264617919922, 0.04302072525024414, 0.042799949645996094, 0.04303693771362305, 0.0431368350982666, 0.043024539947509766, 0.04269981384277344, 0.04331851005554199, 0.04294848442077637, 0.04285478591918945, 0.04297208786010742, 0.043189048767089844, 0.04288911819458008, 0.04301905632019043, 0.04276442527770996, 0.04320931434631348, 0.06030583381652832]\n",
      "Frequency in Hz: 23.11213579364523\n"
     ]
    }
   ],
   "source": [
    "time_diffs = [time_stamps[i+1] - time_stamps[i] for i in range(len(time_stamps)-1)]\n",
    "print(time_diffs)\n",
    "\n",
    "average_time_diff = sum(time_diffs) / len(time_diffs)\n",
    "\n",
    "frequency = 1 / average_time_diff\n",
    "\n",
    "print(\"Frequency in Hz:\", frequency)\n"
   ]
  },
  {
   "cell_type": "code",
   "execution_count": 24,
   "metadata": {},
   "outputs": [],
   "source": [
    "num_nodes = 64\n",
    "time_list = [entry[1] for entry in dat]\n",
    "\n",
    "df = pd.DataFrame(0, index = time_list, columns = range(1,num_nodes+1))\n",
    "\n",
    "for i, [val,t] in enumerate(dat):\n",
    "    for n,p in val:\n",
    "        df.at[time_list[i], n] = p\n"
   ]
  },
  {
   "cell_type": "code",
   "execution_count": 25,
   "metadata": {},
   "outputs": [],
   "source": [
    "# saving as csv to check\n",
    "#df.to_csv('sensor_data.csv', header='timestamp', index_label='nodes')\n"
   ]
  },
  {
   "cell_type": "markdown",
   "metadata": {},
   "source": [
    "## Retiming and linear interpolation"
   ]
  },
  {
   "cell_type": "code",
   "execution_count": 26,
   "metadata": {},
   "outputs": [],
   "source": [
    "def custom_retime_linear(df, new_time):\n",
    "    # Convert unix code to DatetimeIndex\n",
    "    if not isinstance(df.index, pd.DatetimeIndex):\n",
    "        df.index = pd.to_datetime(df.index, unit = 's')\n",
    "        \n",
    "    new_time_series = pd.date_range(start = df.index[0], end = df.index[len(df)-1], freq=new_time)\n",
    "\n",
    "    # init new df\n",
    "    new_df = pd.DataFrame(index=new_time_series)\n",
    "\n",
    "    # Linear interpol\n",
    "    for column in df.columns:\n",
    "        new_df[column] = np.interp(new_time_series.astype(np.int64), df.index.astype(np.int64), df[column])\n",
    "        new_df = new_df.astype(int)\n",
    "\n",
    "    return new_df\n"
   ]
  },
  {
   "cell_type": "code",
   "execution_count": 27,
   "metadata": {},
   "outputs": [],
   "source": [
    "# retiming the df\n",
    "time_difference = pd.Timedelta(seconds=0.0165)\n",
    "newdf = custom_retime_linear(df, time_difference)\n",
    "newdf.to_csv('sensor_data_new.csv', header='timestamp', index_label='nodes')"
   ]
  },
  {
   "cell_type": "code",
   "execution_count": 28,
   "metadata": {},
   "outputs": [
    {
     "name": "stdout",
     "output_type": "stream",
     "text": [
      "16500U\n"
     ]
    }
   ],
   "source": [
    "frequency = pd.infer_freq(newdf.index)\n",
    "print(frequency)"
   ]
  },
  {
   "cell_type": "code",
   "execution_count": 29,
   "metadata": {},
   "outputs": [
    {
     "name": "stdout",
     "output_type": "stream",
     "text": [
      "Differences: [0.0165, 0.0165, 0.0165, 0.0165, 0.0165, 0.0165, 0.0165, 0.0165, 0.0165, 0.0165, 0.0165, 0.0165, 0.0165, 0.0165, 0.0165, 0.0165, 0.0165, 0.0165, 0.0165, 0.0165, 0.0165, 0.0165, 0.0165, 0.0165, 0.0165, 0.0165, 0.0165, 0.0165, 0.0165, 0.0165, 0.0165, 0.0165, 0.0165, 0.0165, 0.0165, 0.0165, 0.0165, 0.0165, 0.0165, 0.0165, 0.0165, 0.0165, 0.0165, 0.0165, 0.0165, 0.0165, 0.0165, 0.0165, 0.0165, 0.0165, 0.0165, 0.0165, 0.0165, 0.0165, 0.0165, 0.0165, 0.0165, 0.0165, 0.0165, 0.0165, 0.0165, 0.0165, 0.0165, 0.0165, 0.0165, 0.0165, 0.0165, 0.0165, 0.0165, 0.0165, 0.0165, 0.0165, 0.0165, 0.0165, 0.0165, 0.0165, 0.0165, 0.0165, 0.0165, 0.0165, 0.0165, 0.0165, 0.0165, 0.0165, 0.0165, 0.0165, 0.0165, 0.0165, 0.0165, 0.0165, 0.0165, 0.0165, 0.0165, 0.0165, 0.0165, 0.0165, 0.0165, 0.0165, 0.0165, 0.0165, 0.0165, 0.0165, 0.0165, 0.0165, 0.0165, 0.0165, 0.0165, 0.0165, 0.0165, 0.0165, 0.0165, 0.0165, 0.0165, 0.0165, 0.0165, 0.0165, 0.0165, 0.0165, 0.0165, 0.0165, 0.0165, 0.0165, 0.0165, 0.0165, 0.0165, 0.0165, 0.0165, 0.0165, 0.0165, 0.0165, 0.0165, 0.0165, 0.0165, 0.0165, 0.0165, 0.0165, 0.0165, 0.0165, 0.0165, 0.0165, 0.0165, 0.0165, 0.0165, 0.0165, 0.0165, 0.0165, 0.0165, 0.0165, 0.0165, 0.0165, 0.0165, 0.0165, 0.0165, 0.0165, 0.0165, 0.0165, 0.0165, 0.0165, 0.0165, 0.0165, 0.0165, 0.0165, 0.0165, 0.0165, 0.0165, 0.0165, 0.0165, 0.0165, 0.0165, 0.0165]\n",
      "Average difference: 0.016500000000000004 seconds\n",
      "Frequency:  60.60606060606059\n"
     ]
    }
   ],
   "source": [
    "datetime_objects = newdf.index.to_series()\n",
    "differences = datetime_objects.diff().dt.total_seconds().dropna()\n",
    "average_difference = differences.mean()\n",
    "\n",
    "print(\"Differences:\", differences.tolist())\n",
    "print(\"Average difference:\", average_difference, \"seconds\")\n",
    "print(\"Frequency: \", 1/average_difference)"
   ]
  },
  {
   "cell_type": "markdown",
   "metadata": {},
   "source": [
    "## Mapping to RGB values"
   ]
  },
  {
   "cell_type": "code",
   "execution_count": 30,
   "metadata": {},
   "outputs": [],
   "source": [
    "def map_2_rgb(x):\n",
    "    if x <= 255:\n",
    "        return [x, 0, 0] \n",
    "    elif x > 255 and x <= 65535:\n",
    "        return [0, x//256, 0]\n",
    "    else:\n",
    "        return [0, 0, x//65536]\n",
    "        "
   ]
  },
  {
   "cell_type": "markdown",
   "metadata": {},
   "source": [
    "## Video rendering"
   ]
  },
  {
   "cell_type": "code",
   "execution_count": 31,
   "metadata": {},
   "outputs": [],
   "source": [
    "fig, ax = plt.subplots()\n",
    "im = ax.imshow(np.zeros((8, 8, 3), dtype=int)) \n",
    "\n",
    "def update(frame):\n",
    "    pressure_data = newdf.iloc[frame]\n",
    "    rgb_data = np.array([[map_2_rgb(value) for value in row] for row in pressure_data.values.reshape((8, 8))])\n",
    "    im.set_array(rgb_data)\n",
    "    return im\n",
    "\n",
    "ani = FuncAnimation(fig, update, frames=range(len(newdf)), interval=30)\n",
    "plt.axis('off')\n",
    "ani.save('pressure_animation.gif', writer='pillow')\n",
    "plt.close()"
   ]
  }
 ],
 "metadata": {
  "kernelspec": {
   "display_name": "Python 3",
   "language": "python",
   "name": "python3"
  },
  "language_info": {
   "codemirror_mode": {
    "name": "ipython",
    "version": 3
   },
   "file_extension": ".py",
   "mimetype": "text/x-python",
   "name": "python",
   "nbconvert_exporter": "python",
   "pygments_lexer": "ipython3",
   "version": "3.10.4"
  }
 },
 "nbformat": 4,
 "nbformat_minor": 2
}
