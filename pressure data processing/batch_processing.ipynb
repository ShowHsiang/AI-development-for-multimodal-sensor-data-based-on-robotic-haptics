{
 "cells": [
  {
   "cell_type": "markdown",
   "metadata": {},
   "source": [
    "# Batch processing of pressure data"
   ]
  },
  {
   "cell_type": "code",
   "execution_count": 13,
   "metadata": {},
   "outputs": [],
   "source": [
    "#import libraries\n",
    "import re\n",
    "import numpy as np\n",
    "import pandas as pd\n",
    "import matplotlib.pyplot as plt\n",
    "from matplotlib.animation import FuncAnimation\n",
    "import os"
   ]
  },
  {
   "cell_type": "code",
   "execution_count": 14,
   "metadata": {},
   "outputs": [],
   "source": [
    "# to extract required data from collected samples\n",
    "def extract_data(path):\n",
    "    global time_stamps\n",
    "    global node_list\n",
    "    global pressure_list\n",
    "    with open(path, 'r') as file:\n",
    "        unfiltered_data = file.read()\n",
    "\n",
    "    unfiltered_data = unfiltered_data.split('[')\n",
    "    filtered_data = []\n",
    "\n",
    "    for value in unfiltered_data:\n",
    "        filtered_data.append(value.split(']'))\n",
    "\n",
    "    filtered_data = filtered_data[1:]\n",
    "    final_data = []\n",
    "    \n",
    "    for i in range(1, len(filtered_data), 4):\n",
    "        for value in filtered_data[i]: \n",
    "            if value.strip():\n",
    "                node_values = re.findall(r'\\d+', value)\n",
    "                node = [int(x) for x in node_values]\n",
    "\n",
    "        for value in filtered_data[i+1]:\n",
    "            if value.strip():\n",
    "                pressure_values = re.findall(r'\\d+', value)\n",
    "                pressure = [int(x) for x in pressure_values]\n",
    "\n",
    "        for value in filtered_data[i+2]:\n",
    "            value = value.strip()\n",
    "            \n",
    "            if (i+2 == len(filtered_data)-1):\n",
    "                value = value.split('\\n')[0]\n",
    "            if value:\n",
    "                time = float(value)\n",
    "\n",
    "        extract = list(zip(node, pressure))\n",
    "        final_data.append([extract, time])\n",
    "\n",
    "    return final_data\n"
   ]
  },
  {
   "cell_type": "code",
   "execution_count": 15,
   "metadata": {},
   "outputs": [],
   "source": [
    "# init dataframe\n",
    "def make_df(data):\n",
    "\n",
    "    num_nodes = 64\n",
    "    time_list = [entry[1] for entry in data]\n",
    "\n",
    "    df = pd.DataFrame(0, index = time_list, columns = range(1,num_nodes+1))\n",
    "\n",
    "    for i, [val,t] in enumerate(data):\n",
    "        for n,p in val:\n",
    "            df.at[time_list[i], n] = p\n",
    "\n",
    "    return df"
   ]
  },
  {
   "cell_type": "code",
   "execution_count": 16,
   "metadata": {},
   "outputs": [],
   "source": [
    "# retiming and interpolating data\n",
    "def custom_retime_linear(df, new_time):\n",
    "    # Convert unix code to DatetimeIndex\n",
    "    if not isinstance(df.index, pd.DatetimeIndex):\n",
    "        df.index = pd.to_datetime(df.index, unit = 's')\n",
    "        \n",
    "    new_time_series = pd.date_range(start = df.index[0], end = df.index[len(df)-1], freq=new_time)\n",
    "\n",
    "    # init new df\n",
    "    new_df = pd.DataFrame(index=new_time_series)\n",
    "\n",
    "    # Linear interpol\n",
    "    for column in df.columns:\n",
    "        new_df[column] = np.interp(new_time_series.astype(np.int64), df.index.astype(np.int64), df[column])\n",
    "        new_df = new_df.astype(int)\n",
    "\n",
    "    return new_df\n"
   ]
  },
  {
   "cell_type": "code",
   "execution_count": 17,
   "metadata": {},
   "outputs": [],
   "source": [
    "# mapping to RGB values\n",
    "def map_2_rgb(x):\n",
    "    if x <= 255:\n",
    "        return [x, 0, 0] \n",
    "    elif x > 255 and x <= 65535:\n",
    "        return [0, x//256, 0]\n",
    "    else:\n",
    "        return [0, 0, x//65536]\n",
    "        "
   ]
  },
  {
   "cell_type": "code",
   "execution_count": null,
   "metadata": {},
   "outputs": [],
   "source": [
    "# path of directory; modify accordingly\n",
    "dir = r\"D:\\iHT\\pressure data processing\\240523 ctl_5-40\"\n",
    "target_dir = r\"D:\\iHT\\pressure data processing\\pressure_data_csv\"\n",
    "animation_dir = r\"D:\\iHT\\pressure data processing\\pressure_data_vid\"\n",
    "f_names = os.listdir(dir)\n",
    "file_paths = [os.path.join(dir, f) for f in os.listdir(dir) if os.path.isfile(os.path.join(dir, f))]\n",
    "file_name = os.path.basename(file_paths[0])\n",
    "\n",
    "\n",
    "for path in file_paths:\n",
    "\n",
    "    # file names\n",
    "    file_name = os.path.basename(path)\n",
    "    file_stem = os.path.splitext(file_name)[0]\n",
    "    csv_file_path = new_file_path = os.path.join(target_dir, f\"{file_stem}.csv\")\n",
    "    animation_file_path = os.path.join(animation_dir, f\"{file_stem}.gif\")\n",
    "\n",
    "    dat = extract_data(path)\n",
    "    df = make_df(dat)\n",
    "    \n",
    "    time_difference = pd.Timedelta(seconds=0.0165)\n",
    "    newdf = custom_retime_linear(df, time_difference)\n",
    "    newdf.to_csv(csv_file_path, header='timestamp', index_label='nodes')\n",
    "\n",
    "    fig, ax = plt.subplots()\n",
    "    im = ax.imshow(np.zeros((8, 8, 3), dtype=int)) \n",
    "\n",
    "    def update(frame):\n",
    "        pressure_data = newdf.iloc[frame]\n",
    "        rgb_data = np.array([[map_2_rgb(value) for value in row] for row in pressure_data.values.reshape((8, 8))])\n",
    "        im.set_array(rgb_data)\n",
    "        return im\n",
    "\n",
    "\n",
    "    ani = FuncAnimation(fig, update, frames=range(len(newdf)), interval=30)\n",
    "    plt.axis('off')\n",
    "    ani.save(animation_file_path, writer='pillow')\n",
    "    plt.close()\n",
    "\n"
   ]
  }
 ],
 "metadata": {
  "kernelspec": {
   "display_name": "Python 3",
   "language": "python",
   "name": "python3"
  },
  "language_info": {
   "codemirror_mode": {
    "name": "ipython",
    "version": 3
   },
   "file_extension": ".py",
   "mimetype": "text/x-python",
   "name": "python",
   "nbconvert_exporter": "python",
   "pygments_lexer": "ipython3",
   "version": "3.10.4"
  }
 },
 "nbformat": 4,
 "nbformat_minor": 2
}
